{
  "nbformat": 4,
  "nbformat_minor": 0,
  "metadata": {
    "colab": {
      "provenance": [],
      "authorship_tag": "ABX9TyPxxOIk9uihi7wx3HPrMXN4",
      "include_colab_link": true
    },
    "kernelspec": {
      "name": "python3",
      "display_name": "Python 3"
    },
    "language_info": {
      "name": "python"
    }
  },
  "cells": [
    {
      "cell_type": "markdown",
      "metadata": {
        "id": "view-in-github",
        "colab_type": "text"
      },
      "source": [
        "<a href=\"https://colab.research.google.com/github/regiltcj/neural-network/blob/nn_andrej_karpathy/nn_andrej_karpathy.ipynb\" target=\"_parent\"><img src=\"https://colab.research.google.com/assets/colab-badge.svg\" alt=\"Open In Colab\"/></a>"
      ]
    },
    {
      "cell_type": "code",
      "execution_count": 1,
      "metadata": {
        "id": "VBtO9rCY51z6"
      },
      "outputs": [],
      "source": [
        "import numpy as np\n",
        "import pandas as pd\n",
        "import matplotlib.pyplot as plt"
      ]
    },
    {
      "cell_type": "code",
      "source": [
        "from graphviz import Digraph\n",
        "\n",
        "def trace(root):\n",
        "  # builds a set of all nodes and edges in a graph\n",
        "  nodes, edges = set(), set()\n",
        "  def build(v):\n",
        "    if v not in nodes:\n",
        "      nodes.add(v)\n",
        "      for child in v._prev:\n",
        "        edges.add((child, v))\n",
        "        build(child)\n",
        "  build(root)\n",
        "  return nodes, edges\n",
        "\n",
        "def draw_dot(root):\n",
        "  dot = Digraph(format='svg', graph_attr={'rankdir': 'LR'}) # LR = left to right\n",
        "\n",
        "  nodes, edges = trace(root)\n",
        "  for n in nodes:\n",
        "    uid = str(id(n))\n",
        "    # for any value in the graph, create a rectangular ('record') node for it\n",
        "    # dot.node(name = uid, label = \"{ %s | data %.4f | grad %.4f }\" % (n.label, n.data, n.grad), shape='record')\n",
        "    dot.node(name = uid, label = \"{ %s | data %.4f }\" % (n.label, n.data), shape='record')\n",
        "    if n._op:\n",
        "      # if this value is a result of some operation, create an op node for it\n",
        "      dot.node(name = uid + n._op, label = n._op)\n",
        "      # and connect this node to it\n",
        "      dot.edge(uid + n._op, uid)\n",
        "\n",
        "  for n1, n2 in edges:\n",
        "    # connect n1 to the op node of n2\n",
        "    dot.edge(str(id(n1)), str(id(n2)) + n2._op)\n",
        "\n",
        "  return dot"
      ],
      "metadata": {
        "id": "RfrOf4YqLWud"
      },
      "execution_count": 29,
      "outputs": []
    },
    {
      "cell_type": "code",
      "source": [
        "class Value():\n",
        "  def __init__(self, data, prev=(), op=\"\", label=\"\"):\n",
        "    self.data = data\n",
        "    self._prev = set(prev)\n",
        "    self._op = op\n",
        "    self.label = label\n",
        "\n",
        "  def __repr__(self):\n",
        "    return f\"Value(data={self.data})\"\n",
        "\n",
        "  def __add__(self, other):\n",
        "    result = self.data + other.data\n",
        "    return Value(result,(self, other),\"+\")\n",
        "\n",
        "  def __mul__(self, other):\n",
        "    result = self.data * other.data\n",
        "    return Value(result,(self, other), \"*\")"
      ],
      "metadata": {
        "id": "7aEHiE9o57X4"
      },
      "execution_count": 26,
      "outputs": []
    },
    {
      "cell_type": "code",
      "source": [
        "a = Value(2.0, label='a')\n",
        "b = Value(-3.0, label='b')\n",
        "c = Value(10.0, label='c')\n",
        "e = a*b; e.label = 'e'\n",
        "d = e + c; d.label = 'd'\n",
        "f = Value(-2.0, label='f')\n",
        "L = d * f; L.label = 'L'\n",
        "L"
      ],
      "metadata": {
        "colab": {
          "base_uri": "https://localhost:8080/"
        },
        "id": "FLtNvco5KJQO",
        "outputId": "2ed340a2-6480-4abe-86ba-92d602c8dd20"
      },
      "execution_count": 30,
      "outputs": [
        {
          "output_type": "execute_result",
          "data": {
            "text/plain": [
              "Value(data=-8.0)"
            ]
          },
          "metadata": {},
          "execution_count": 30
        }
      ]
    },
    {
      "cell_type": "code",
      "source": [
        "draw_dot(L)"
      ],
      "metadata": {
        "colab": {
          "base_uri": "https://localhost:8080/",
          "height": 192
        },
        "id": "RSiGC4daLR7k",
        "outputId": "750fd494-d570-4879-ef1a-9408f369b6cb"
      },
      "execution_count": 31,
      "outputs": [
        {
          "output_type": "execute_result",
          "data": {
            "image/svg+xml": "<?xml version=\"1.0\" encoding=\"UTF-8\" standalone=\"no\"?>\n<!DOCTYPE svg PUBLIC \"-//W3C//DTD SVG 1.1//EN\"\n \"http://www.w3.org/Graphics/SVG/1.1/DTD/svg11.dtd\">\n<!-- Generated by graphviz version 2.43.0 (0)\n -->\n<!-- Title: %3 Pages: 1 -->\n<svg width=\"820pt\" height=\"128pt\"\n viewBox=\"0.00 0.00 820.00 128.00\" xmlns=\"http://www.w3.org/2000/svg\" xmlns:xlink=\"http://www.w3.org/1999/xlink\">\n<g id=\"graph0\" class=\"graph\" transform=\"scale(1 1) rotate(0) translate(4 124)\">\n<title>%3</title>\n<polygon fill=\"white\" stroke=\"transparent\" points=\"-4,4 -4,-124 816,-124 816,4 -4,4\"/>\n<!-- 134888541040848 -->\n<g id=\"node1\" class=\"node\">\n<title>134888541040848</title>\n<polygon fill=\"none\" stroke=\"black\" points=\"234,-83.5 234,-119.5 344,-119.5 344,-83.5 234,-83.5\"/>\n<text text-anchor=\"middle\" x=\"245.5\" y=\"-97.8\" font-family=\"Times,serif\" font-size=\"14.00\">c</text>\n<polyline fill=\"none\" stroke=\"black\" points=\"257,-83.5 257,-119.5 \"/>\n<text text-anchor=\"middle\" x=\"300.5\" y=\"-97.8\" font-family=\"Times,serif\" font-size=\"14.00\">data 10.0000</text>\n</g>\n<!-- 134888541037456+ -->\n<g id=\"node8\" class=\"node\">\n<title>134888541037456+</title>\n<ellipse fill=\"none\" stroke=\"black\" cx=\"407\" cy=\"-73.5\" rx=\"27\" ry=\"18\"/>\n<text text-anchor=\"middle\" x=\"407\" y=\"-69.8\" font-family=\"Times,serif\" font-size=\"14.00\">+</text>\n</g>\n<!-- 134888541040848&#45;&gt;134888541037456+ -->\n<g id=\"edge6\" class=\"edge\">\n<title>134888541040848&#45;&gt;134888541037456+</title>\n<path fill=\"none\" stroke=\"black\" d=\"M344.26,-88.4C353.49,-86.18 362.84,-83.92 371.37,-81.86\"/>\n<polygon fill=\"black\" stroke=\"black\" points=\"372.42,-85.21 381.32,-79.46 370.78,-78.4 372.42,-85.21\"/>\n</g>\n<!-- 134888541036944 -->\n<g id=\"node2\" class=\"node\">\n<title>134888541036944</title>\n<polygon fill=\"none\" stroke=\"black\" points=\"0,-56.5 0,-92.5 108,-92.5 108,-56.5 0,-56.5\"/>\n<text text-anchor=\"middle\" x=\"11.5\" y=\"-70.8\" font-family=\"Times,serif\" font-size=\"14.00\">b</text>\n<polyline fill=\"none\" stroke=\"black\" points=\"23,-56.5 23,-92.5 \"/>\n<text text-anchor=\"middle\" x=\"65.5\" y=\"-70.8\" font-family=\"Times,serif\" font-size=\"14.00\">data &#45;3.0000</text>\n</g>\n<!-- 134888541039952* -->\n<g id=\"node5\" class=\"node\">\n<title>134888541039952*</title>\n<ellipse fill=\"none\" stroke=\"black\" cx=\"171\" cy=\"-46.5\" rx=\"27\" ry=\"18\"/>\n<text text-anchor=\"middle\" x=\"171\" y=\"-42.8\" font-family=\"Times,serif\" font-size=\"14.00\">*</text>\n</g>\n<!-- 134888541036944&#45;&gt;134888541039952* -->\n<g id=\"edge9\" class=\"edge\">\n<title>134888541036944&#45;&gt;134888541039952*</title>\n<path fill=\"none\" stroke=\"black\" d=\"M108.12,-61.57C117.51,-59.28 127.06,-56.95 135.76,-54.84\"/>\n<polygon fill=\"black\" stroke=\"black\" points=\"136.62,-58.23 145.51,-52.46 134.97,-51.43 136.62,-58.23\"/>\n</g>\n<!-- 134888541043664 -->\n<g id=\"node3\" class=\"node\">\n<title>134888541043664</title>\n<polygon fill=\"none\" stroke=\"black\" points=\"470,-0.5 470,-36.5 576,-36.5 576,-0.5 470,-0.5\"/>\n<text text-anchor=\"middle\" x=\"480.5\" y=\"-14.8\" font-family=\"Times,serif\" font-size=\"14.00\">f</text>\n<polyline fill=\"none\" stroke=\"black\" points=\"491,-0.5 491,-36.5 \"/>\n<text text-anchor=\"middle\" x=\"533.5\" y=\"-14.8\" font-family=\"Times,serif\" font-size=\"14.00\">data &#45;2.0000</text>\n</g>\n<!-- 134888541040080* -->\n<g id=\"node10\" class=\"node\">\n<title>134888541040080*</title>\n<ellipse fill=\"none\" stroke=\"black\" cx=\"639\" cy=\"-45.5\" rx=\"27\" ry=\"18\"/>\n<text text-anchor=\"middle\" x=\"639\" y=\"-41.8\" font-family=\"Times,serif\" font-size=\"14.00\">*</text>\n</g>\n<!-- 134888541043664&#45;&gt;134888541040080* -->\n<g id=\"edge8\" class=\"edge\">\n<title>134888541043664&#45;&gt;134888541040080*</title>\n<path fill=\"none\" stroke=\"black\" d=\"M576.33,-30.89C585.48,-33.06 594.8,-35.27 603.33,-37.29\"/>\n<polygon fill=\"black\" stroke=\"black\" points=\"602.73,-40.74 613.27,-39.64 604.34,-33.93 602.73,-40.74\"/>\n</g>\n<!-- 134888541039952 -->\n<g id=\"node4\" class=\"node\">\n<title>134888541039952</title>\n<polygon fill=\"none\" stroke=\"black\" points=\"235,-28.5 235,-64.5 343,-64.5 343,-28.5 235,-28.5\"/>\n<text text-anchor=\"middle\" x=\"246.5\" y=\"-42.8\" font-family=\"Times,serif\" font-size=\"14.00\">e</text>\n<polyline fill=\"none\" stroke=\"black\" points=\"258,-28.5 258,-64.5 \"/>\n<text text-anchor=\"middle\" x=\"300.5\" y=\"-42.8\" font-family=\"Times,serif\" font-size=\"14.00\">data &#45;6.0000</text>\n</g>\n<!-- 134888541039952&#45;&gt;134888541037456+ -->\n<g id=\"edge5\" class=\"edge\">\n<title>134888541039952&#45;&gt;134888541037456+</title>\n<path fill=\"none\" stroke=\"black\" d=\"M343.25,-58.89C352.75,-61.11 362.43,-63.36 371.24,-65.41\"/>\n<polygon fill=\"black\" stroke=\"black\" points=\"370.6,-68.85 381.14,-67.71 372.19,-62.04 370.6,-68.85\"/>\n</g>\n<!-- 134888541039952*&#45;&gt;134888541039952 -->\n<g id=\"edge1\" class=\"edge\">\n<title>134888541039952*&#45;&gt;134888541039952</title>\n<path fill=\"none\" stroke=\"black\" d=\"M198.03,-46.5C206.08,-46.5 215.32,-46.5 224.74,-46.5\"/>\n<polygon fill=\"black\" stroke=\"black\" points=\"224.99,-50 234.99,-46.5 224.99,-43 224.99,-50\"/>\n</g>\n<!-- 134888541042512 -->\n<g id=\"node6\" class=\"node\">\n<title>134888541042512</title>\n<polygon fill=\"none\" stroke=\"black\" points=\"2.5,-1.5 2.5,-37.5 105.5,-37.5 105.5,-1.5 2.5,-1.5\"/>\n<text text-anchor=\"middle\" x=\"14\" y=\"-15.8\" font-family=\"Times,serif\" font-size=\"14.00\">a</text>\n<polyline fill=\"none\" stroke=\"black\" points=\"25.5,-1.5 25.5,-37.5 \"/>\n<text text-anchor=\"middle\" x=\"65.5\" y=\"-15.8\" font-family=\"Times,serif\" font-size=\"14.00\">data 2.0000</text>\n</g>\n<!-- 134888541042512&#45;&gt;134888541039952* -->\n<g id=\"edge4\" class=\"edge\">\n<title>134888541042512&#45;&gt;134888541039952*</title>\n<path fill=\"none\" stroke=\"black\" d=\"M105.78,-31.42C115.74,-33.76 125.98,-36.17 135.28,-38.35\"/>\n<polygon fill=\"black\" stroke=\"black\" points=\"134.77,-41.82 145.3,-40.7 136.37,-35.01 134.77,-41.82\"/>\n</g>\n<!-- 134888541037456 -->\n<g id=\"node7\" class=\"node\">\n<title>134888541037456</title>\n<polygon fill=\"none\" stroke=\"black\" points=\"471.5,-55.5 471.5,-91.5 574.5,-91.5 574.5,-55.5 471.5,-55.5\"/>\n<text text-anchor=\"middle\" x=\"483\" y=\"-69.8\" font-family=\"Times,serif\" font-size=\"14.00\">d</text>\n<polyline fill=\"none\" stroke=\"black\" points=\"494.5,-55.5 494.5,-91.5 \"/>\n<text text-anchor=\"middle\" x=\"534.5\" y=\"-69.8\" font-family=\"Times,serif\" font-size=\"14.00\">data 4.0000</text>\n</g>\n<!-- 134888541037456&#45;&gt;134888541040080* -->\n<g id=\"edge7\" class=\"edge\">\n<title>134888541037456&#45;&gt;134888541040080*</title>\n<path fill=\"none\" stroke=\"black\" d=\"M574.67,-61.06C584.43,-58.66 594.45,-56.2 603.55,-53.96\"/>\n<polygon fill=\"black\" stroke=\"black\" points=\"604.5,-57.33 613.37,-51.55 602.83,-50.54 604.5,-57.33\"/>\n</g>\n<!-- 134888541037456+&#45;&gt;134888541037456 -->\n<g id=\"edge2\" class=\"edge\">\n<title>134888541037456+&#45;&gt;134888541037456</title>\n<path fill=\"none\" stroke=\"black\" d=\"M434.15,-73.5C442.26,-73.5 451.57,-73.5 461.02,-73.5\"/>\n<polygon fill=\"black\" stroke=\"black\" points=\"461.28,-77 471.28,-73.5 461.28,-70 461.28,-77\"/>\n</g>\n<!-- 134888541040080 -->\n<g id=\"node9\" class=\"node\">\n<title>134888541040080</title>\n<polygon fill=\"none\" stroke=\"black\" points=\"702,-27.5 702,-63.5 812,-63.5 812,-27.5 702,-27.5\"/>\n<text text-anchor=\"middle\" x=\"714.5\" y=\"-41.8\" font-family=\"Times,serif\" font-size=\"14.00\">L</text>\n<polyline fill=\"none\" stroke=\"black\" points=\"727,-27.5 727,-63.5 \"/>\n<text text-anchor=\"middle\" x=\"769.5\" y=\"-41.8\" font-family=\"Times,serif\" font-size=\"14.00\">data &#45;8.0000</text>\n</g>\n<!-- 134888541040080*&#45;&gt;134888541040080 -->\n<g id=\"edge3\" class=\"edge\">\n<title>134888541040080*&#45;&gt;134888541040080</title>\n<path fill=\"none\" stroke=\"black\" d=\"M666.03,-45.5C673.7,-45.5 682.45,-45.5 691.42,-45.5\"/>\n<polygon fill=\"black\" stroke=\"black\" points=\"691.58,-49 701.58,-45.5 691.58,-42 691.58,-49\"/>\n</g>\n</g>\n</svg>\n",
            "text/plain": [
              "<graphviz.graphs.Digraph at 0x7aae2f8cdc90>"
            ]
          },
          "metadata": {},
          "execution_count": 31
        }
      ]
    },
    {
      "cell_type": "code",
      "source": [],
      "metadata": {
        "id": "yOPGD_aELhc1"
      },
      "execution_count": null,
      "outputs": []
    }
  ]
}